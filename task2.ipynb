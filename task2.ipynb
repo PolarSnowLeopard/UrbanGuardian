{
 "cells": [
  {
   "cell_type": "markdown",
   "id": "98360faa-1718-4fca-9661-bad36f61135e",
   "metadata": {},
   "source": [
    "## 安装环境"
   ]
  },
  {
   "cell_type": "code",
   "execution_count": null,
   "id": "5e83deb7-44d8-4480-97d3-f26a072cd496",
   "metadata": {
    "scrolled": true
   },
   "outputs": [],
   "source": [
    "!/opt/miniconda/bin/pip install opencv-python pandas matplotlib ultralytics > /dev/null\n",
    "!apt install zip unzip -y > /dev/null\n",
    "!apt install unar -y > /dev/null"
   ]
  },
  {
   "cell_type": "code",
   "execution_count": null,
   "id": "4890528d-e686-4fd0-8477-a4db2270484a",
   "metadata": {},
   "outputs": [],
   "source": [
    "!wget http://mirror.coggle.club/yolo/fan-yolo-dataset.zip\n",
    "!unzip -q fan-yolo-dataset.zip"
   ]
  },
  {
   "cell_type": "markdown",
   "id": "2b5f31eb-22d7-4b1c-979c-1edf82ddd157",
   "metadata": {},
   "source": [
    "## 构建数据集"
   ]
  },
  {
   "cell_type": "code",
   "execution_count": null,
   "id": "1d19db6a-eb58-423e-9011-a135f48efc1d",
   "metadata": {},
   "outputs": [],
   "source": [
    "import os\n",
    "dir_path = os.path.abspath('./') + '/'\n",
    "\n",
    "with open('fan-yolo-dataset/yolo.yaml', 'w', encoding='utf-8') as up:\n",
    "    up.write(f'''\n",
    "path: {dir_path}/fan-yolo-dataset/\n",
    "train: train/\n",
    "val: val/\n",
    "\n",
    "names:\n",
    "    0: 电风扇\n",
    "\n",
    "''')"
   ]
  },
  {
   "cell_type": "code",
   "execution_count": null,
   "id": "784dd333-59ec-495b-80da-911db005a458",
   "metadata": {},
   "outputs": [],
   "source": [
    "!wget -q http://mirror.coggle.club/yolo/yolov8n-v8.2.0.pt -O yolov8n.pt\n",
    "!wget -q http://mirror.coggle.club/yolo/yolov8s-v8.2.0.pt -O yolov8s.pt\n",
    "!wget -q http://mirror.coggle.club/yolo/yolov8m-v8.2.0.pt -O yolov8m.pt\n",
    "\n",
    "!mkdir -p ~/.config/Ultralytics/\n",
    "!wget -q http://mirror.coggle.club/yolo/Arial.ttf -O ~/.config/Ultralytics/Arial.ttf\n",
    "!wget -q http://mirror.coggle.club/yolo/Arial.Unicode.ttf -O ~/.config/Ultralytics/Arial.Unicode.ttf"
   ]
  },
  {
   "cell_type": "markdown",
   "id": "35ace36c-bfec-4ea0-8d6e-bbe97b388bff",
   "metadata": {},
   "source": [
    "## yolov8n"
   ]
  },
  {
   "cell_type": "code",
   "execution_count": null,
   "id": "017de24a-8d8c-4263-a1aa-53ba556a8043",
   "metadata": {},
   "outputs": [],
   "source": [
    "import os\n",
    "os.environ[\"CUDA_VISIBLE_DEVICES\"] = \"0\"\n",
    "\n",
    "import warnings\n",
    "warnings.filterwarnings('ignore')\n",
    "\n",
    "from ultralytics import YOLO\n",
    "model = YOLO(\"yolov8n.pt\")\n",
    "results = model.train(data=\"fan-yolo-dataset/yolo.yaml\", epochs=30, batch=16)"
   ]
  },
  {
   "cell_type": "code",
   "execution_count": null,
   "id": "31d88b5d-fe45-4bcb-a5b4-fed1b43ea254",
   "metadata": {},
   "outputs": [],
   "source": [
    "from IPython.display import Image\n",
    "Image(filename=results.save_dir / 'labels.jpg')"
   ]
  },
  {
   "cell_type": "code",
   "execution_count": null,
   "id": "a7224a8c-274f-439f-a67f-2e9ac9c3879b",
   "metadata": {},
   "outputs": [],
   "source": [
    "from IPython.display import Image\n",
    "Image(filename=results.save_dir / 'results.png')"
   ]
  },
  {
   "cell_type": "code",
   "execution_count": null,
   "id": "0bb1a6b5-dfcb-49b3-8a9e-f13c9b34946c",
   "metadata": {
    "scrolled": true
   },
   "outputs": [],
   "source": [
    "from IPython.display import Image\n",
    "Image(filename=results.save_dir / 'val_batch0_pred.jpg')"
   ]
  },
  {
   "cell_type": "markdown",
   "id": "f2914aa2-2395-4c77-88b0-c8e8a762ca18",
   "metadata": {},
   "source": [
    "## yolo8s"
   ]
  },
  {
   "cell_type": "code",
   "execution_count": null,
   "id": "198b81cc-7b1a-47d6-80d0-7e6f2f9e1874",
   "metadata": {},
   "outputs": [],
   "source": [
    "import os\n",
    "os.environ[\"CUDA_VISIBLE_DEVICES\"] = \"0\"\n",
    "\n",
    "import warnings\n",
    "warnings.filterwarnings('ignore')\n",
    "\n",
    "from ultralytics import YOLO\n",
    "model = YOLO(\"yolov8s.pt\")\n",
    "results = model.train(data=\"fan-yolo-dataset/yolo.yaml\", epochs=30, batch=16)"
   ]
  },
  {
   "cell_type": "code",
   "execution_count": null,
   "id": "48c15561-3e29-47f6-bf99-c9430fb7fc16",
   "metadata": {},
   "outputs": [],
   "source": [
    "from IPython.display import Image\n",
    "Image(filename=results.save_dir / 'results.png')"
   ]
  },
  {
   "cell_type": "code",
   "execution_count": null,
   "id": "9c7bcae1-34dc-4efb-a754-ab4a84c595e9",
   "metadata": {},
   "outputs": [],
   "source": [
    "from IPython.display import Image\n",
    "Image(filename=results.save_dir / 'val_batch0_pred.jpg')"
   ]
  },
  {
   "cell_type": "markdown",
   "id": "6165f098-01c5-4b93-8a48-5c8e889589c4",
   "metadata": {},
   "source": [
    "## yolo8m"
   ]
  },
  {
   "cell_type": "code",
   "execution_count": null,
   "id": "e0020ee2-9f0a-4790-ae71-77d14ca8e9ea",
   "metadata": {},
   "outputs": [],
   "source": [
    "import os\n",
    "os.environ[\"CUDA_VISIBLE_DEVICES\"] = \"0\"\n",
    "\n",
    "import warnings\n",
    "warnings.filterwarnings('ignore')\n",
    "\n",
    "from ultralytics import YOLO\n",
    "model = YOLO(\"yolov8m.pt\")\n",
    "results = model.train(data=\"fan-yolo-dataset/yolo.yaml\", epochs=30, batch=16)"
   ]
  },
  {
   "cell_type": "code",
   "execution_count": null,
   "id": "90fbd0cd-2b2a-4178-9593-0e164f0f27ea",
   "metadata": {},
   "outputs": [],
   "source": [
    "from IPython.display import Image\n",
    "Image(filename=results.save_dir / 'results.png')"
   ]
  },
  {
   "cell_type": "code",
   "execution_count": null,
   "id": "a57d427e-ead1-43f3-b7e9-5bcb32a99c60",
   "metadata": {},
   "outputs": [],
   "source": [
    "from IPython.display import Image\n",
    "Image(filename=results.save_dir / 'val_batch0_pred.jpg')"
   ]
  },
  {
   "cell_type": "code",
   "execution_count": null,
   "id": "f72bf9b7-d2f7-41ed-bbd0-477bb2da9237",
   "metadata": {},
   "outputs": [],
   "source": []
  }
 ],
 "metadata": {
  "kernelspec": {
   "display_name": "Python 3 (ipykernel)",
   "language": "python",
   "name": "python3"
  },
  "language_info": {
   "codemirror_mode": {
    "name": "ipython",
    "version": 3
   },
   "file_extension": ".py",
   "mimetype": "text/x-python",
   "name": "python",
   "nbconvert_exporter": "python",
   "pygments_lexer": "ipython3",
   "version": "3.10.13"
  }
 },
 "nbformat": 4,
 "nbformat_minor": 5
}
